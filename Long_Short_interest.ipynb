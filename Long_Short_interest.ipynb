{
  "nbformat": 4,
  "nbformat_minor": 0,
  "metadata": {
    "colab": {
      "provenance": [],
      "authorship_tag": "ABX9TyOISj49N4xa67a3eR2TFSOq",
      "include_colab_link": true
    },
    "kernelspec": {
      "name": "python3",
      "display_name": "Python 3"
    },
    "language_info": {
      "name": "python"
    }
  },
  "cells": [
    {
      "cell_type": "markdown",
      "metadata": {
        "id": "view-in-github",
        "colab_type": "text"
      },
      "source": [
        "<a href=\"https://colab.research.google.com/github/tonycico0912/ChatGPT_Python/blob/main/Long_Short_interest.ipynb\" target=\"_parent\"><img src=\"https://colab.research.google.com/assets/colab-badge.svg\" alt=\"Open In Colab\"/></a>"
      ]
    },
    {
      "cell_type": "code",
      "execution_count": null,
      "metadata": {
        "id": "r8rpZFu3_-lD"
      },
      "outputs": [],
      "source": [
        "import pandas_datareader as web\n",
        "import pandas as pd\n",
        "import matplotlib.pyplot as plt\n",
        "\n",
        "# 데이터 가져오기\n",
        "t10y2y = web.DataReader('T10Y2Y', 'fred', start='1990-01-01')  # T10Y2Y 데이터 가져오기\n",
        "t10y3m = web.DataReader('T10Y3M', 'fred', start='1990-01-01')  # T10Y3M 데이터 가져오기\n",
        "\n",
        "# 데이터 결합\n",
        "rate_diff = pd.concat([t10y2y, t10y3m], axis=1)  # T10Y2Y와 T10Y3M 데이터 결합\n",
        "rate_diff.columns = ['10Y - 2Y', '10Y - 3M']  # 열 이름 설정\n",
        "\n",
        "# 데이터 확인\n",
        "print(rate_diff.tail())  # 데이터 확인\n",
        "\n",
        "# 그래프 설정\n",
        "plt.rc('font', family='Malgun Gothic')  # 그래프에서 한글 폰트 설정\n",
        "plt.rc('axes', unicode_minus=False)  # x, y축에서 마이너스 부호 사용\n",
        "\n",
        "# 그래프 그리기\n",
        "fig, ax1 = plt.subplots(figsize=(10, 6))  # 그래프 크기 설정\n",
        "\n",
        "# 10Y-2Y 그래프\n",
        "ax1.plot(t10y2y, color='black', linewidth=0.5, label='10Y-2Y')  # 10Y-2Y 데이터 그래프 그리기\n",
        "ax1.axhline(y=0, color='r', linestyle='dashed')  # y=0 수평선 그리기\n",
        "ax1.set_ylabel('10Y-2Y')  # y축 레이블 설정\n",
        "ax1.legend(loc='lower right')  # 범례 위치 설정\n",
        "\n",
        "# 10Y-3M 그래프\n",
        "ax2 = ax1.twinx()  # ax1과 x축을 공유하는 새로운 y축 생성\n",
        "ax2.plot(t10y3m, color='red', linewidth=0.5, label='10Y-3M')  # 10Y-3M 데이터 그래프 그리기\n",
        "ax2.set_ylabel('10Y-3M')  # y축 레이블 설정\n",
        "ax2.legend(loc='upper right')  # 범례 위치 설정\n",
        "\n",
        "# 그래프 출력\n",
        "plt.show()"
      ]
    }
  ]
}