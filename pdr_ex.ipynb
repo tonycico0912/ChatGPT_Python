{
  "nbformat": 4,
  "nbformat_minor": 0,
  "metadata": {
    "colab": {
      "provenance": [],
      "authorship_tag": "ABX9TyOg4X7b76vRaeo7NkAcOYLd",
      "include_colab_link": true
    },
    "kernelspec": {
      "name": "python3",
      "display_name": "Python 3"
    },
    "language_info": {
      "name": "python"
    }
  },
  "cells": [
    {
      "cell_type": "markdown",
      "metadata": {
        "id": "view-in-github",
        "colab_type": "text"
      },
      "source": [
        "<a href=\"https://colab.research.google.com/github/tonycico0912/ChatGPT_Python/blob/main/pdr_ex.ipynb\" target=\"_parent\"><img src=\"https://colab.research.google.com/assets/colab-badge.svg\" alt=\"Open In Colab\"/></a>"
      ]
    },
    {
      "cell_type": "code",
      "execution_count": 3,
      "metadata": {
        "colab": {
          "base_uri": "https://localhost:8080/",
          "height": 248
        },
        "id": "e8sAYJLknDZU",
        "outputId": "d5e30ae4-944f-445e-f517-c1bc6d13eae9"
      },
      "outputs": [
        {
          "output_type": "error",
          "ename": "FileNotFoundError",
          "evalue": "ignored",
          "traceback": [
            "\u001b[0;31m---------------------------------------------------------------------------\u001b[0m",
            "\u001b[0;31mFileNotFoundError\u001b[0m                         Traceback (most recent call last)",
            "\u001b[0;32m<ipython-input-3-2047f75675af>\u001b[0m in \u001b[0;36m<cell line: 12>\u001b[0;34m()\u001b[0m\n\u001b[1;32m     10\u001b[0m \u001b[0;31m# API 키를 읽어옵니다. 이 키는 data_go_kr_api_key.txt 파일에 저장되어 있습니다.\u001b[0m\u001b[0;34m\u001b[0m\u001b[0;34m\u001b[0m\u001b[0m\n\u001b[1;32m     11\u001b[0m \u001b[0mlogging\u001b[0m\u001b[0;34m.\u001b[0m\u001b[0minfo\u001b[0m\u001b[0;34m(\u001b[0m\u001b[0;34m\"Reading API key...\"\u001b[0m\u001b[0;34m)\u001b[0m\u001b[0;34m\u001b[0m\u001b[0;34m\u001b[0m\u001b[0m\n\u001b[0;32m---> 12\u001b[0;31m \u001b[0;32mwith\u001b[0m \u001b[0mopen\u001b[0m\u001b[0;34m(\u001b[0m\u001b[0;34m'data_go_kr_api_key.txt'\u001b[0m\u001b[0;34m,\u001b[0m \u001b[0;34m'r'\u001b[0m\u001b[0;34m,\u001b[0m \u001b[0mencoding\u001b[0m\u001b[0;34m=\u001b[0m\u001b[0;34m'utf-8'\u001b[0m\u001b[0;34m)\u001b[0m \u001b[0;32mas\u001b[0m \u001b[0mfile\u001b[0m\u001b[0;34m:\u001b[0m\u001b[0;34m\u001b[0m\u001b[0;34m\u001b[0m\u001b[0m\n\u001b[0m\u001b[1;32m     13\u001b[0m     \u001b[0mservice_key\u001b[0m \u001b[0;34m=\u001b[0m \u001b[0mfile\u001b[0m\u001b[0;34m.\u001b[0m\u001b[0mreadline\u001b[0m\u001b[0;34m(\u001b[0m\u001b[0;34m)\u001b[0m\u001b[0;34m.\u001b[0m\u001b[0mstrip\u001b[0m\u001b[0;34m(\u001b[0m\u001b[0;34m)\u001b[0m\u001b[0;34m\u001b[0m\u001b[0;34m\u001b[0m\u001b[0m\n\u001b[1;32m     14\u001b[0m \u001b[0;34m\u001b[0m\u001b[0m\n",
            "\u001b[0;31mFileNotFoundError\u001b[0m: [Errno 2] No such file or directory: 'data_go_kr_api_key.txt'"
          ]
        }
      ],
      "source": [
        "# 필요한 라이브러리를 가져옵니다.\n",
        "import requests\n",
        "from PublicDataReader import TransactionPrice\n",
        "import logging\n",
        "import PublicDataReader as pdr\n",
        "\n",
        "# 로깅 레벨을 INFO로 설정합니다. 이렇게 하면 프로그램에서 발생하는 정보성 메시지를 콘솔에 출력합니다.\n",
        "logging.basicConfig(level=logging.INFO)\n",
        "\n",
        "# API 키를 읽어옵니다. 이 키는 data_go_kr_api_key.txt 파일에 저장되어 있습니다.\n",
        "logging.info(\"Reading API key...\")\n",
        "with open('data_go_kr_api_key.txt', 'r', encoding='utf-8') as file:\n",
        "    service_key = file.readline().strip()\n",
        "\n",
        "# TransactionPrice API를 초기화합니다.\n",
        "logging.info(\"Initializing API...\")\n",
        "api = TransactionPrice(service_key)\n",
        "\n",
        "# 부동산 유형을 나타내는 리스트를 생성합니다.\n",
        "property_types = [\"아파트\", \"오피스텔\", \"단독다가구\", \"연립다세대\", \"토지\", \"분양입주권\", \"공장창고\"]\n",
        "\n",
        "# 거래 유형을 나타내는 리스트를 생성합니다.\n",
        "trade_types = [\"매매\", \"전월세\"]\n",
        "\n",
        "# 사용자에게 부동산 유형을 선택하도록 요청합니다.\n",
        "logging.info(\"Asking user to select property_type...\")\n",
        "print(\"[Q1] 원하는 property_type을 선택해주세요:\")\n",
        "for i, property_type in enumerate(property_types, 1):\n",
        "    print(f\"{i}. {property_type}\")\n",
        "\n",
        "# 사용자의 선택을 받습니다.\n",
        "user_choice = int(input(\"선택(1-7): \")) - 1\n",
        "selected_property_type = property_types[user_choice]\n",
        "\n",
        "print(\"----------------------------------------------------------------\")\n",
        "\n",
        "# 사용자에게 거래 유형을 선택하도록 요청합니다.\n",
        "logging.info(\"Asking user to select trade_type...\")\n",
        "print(\"[Q2] 원하는 trade_type을 선택해주세요:\")\n",
        "for i, trade_type in enumerate(trade_types, 1):\n",
        "    print(f\"{i}. {trade_type}\")\n",
        "\n",
        "# 사용자의 선택을 받습니다.\n",
        "user_choice = int(input(\"선택(1-2): \")) - 1\n",
        "selected_trade_type = trade_types[user_choice]\n",
        "\n",
        "print(\"----------------------------------------------------------------\")\n",
        "\n",
        "# 사용자로부터 시군구명을 입력받습니다.\n",
        "sigungu_name = input(\"시군구명을 입력하세요: \")\n",
        "\n",
        "# 법정동 코드를 가져옵니다.\n",
        "code = pdr.code_bdong()\n",
        "\n",
        "# 입력한 시군구명이 포함된 행을 찾습니다.\n",
        "result = code.loc[(code['시군구명'].str.contains(sigungu_name)) & (code['읍면동명']=='')]\n",
        "\n",
        "# 원하는 열만 선택하여 출력합니다.\n",
        "result = result[['시도코드', '시도명', '시군구코드', '시군구명', '법정동코드', '읍면동명', '동리명', '생성일자', '말소일자']]\n",
        "print(result)\n",
        "\n",
        "# 시군구코드를 추출합니다.\n",
        "sigungu_code = str(result['시군구코드'].values[0])\n",
        "\n",
        "print(\"[Q4]원하는 조회기간을 입력해주세요:\")\n",
        "\n",
        "import datetime\n",
        "\n",
        "# 현재 년월을 얻습니다.\n",
        "current_year_month = datetime.datetime.now().strftime(\"%Y%m\")\n",
        "\n",
        "while True:\n",
        "    # 사용자로부터 조회할 년월을 입력받습니다.\n",
        "    year_month = input(\"조회할 년월을 입력하세요(예: 202212): \")\n",
        "\n",
        "    # 입력된 년월이 현재보다 뒤인지 확인합니다. 뒤라면 다시 입력을 요청합니다.\n",
        "    if int(year_month) > int(current_year_month):\n",
        "        print(\"입력된 년월이 현재보다 뒤입니다. 다시 입력해주세요.\")\n",
        "    else:\n",
        "        break\n",
        "\n",
        "# 단일 월에 대한 데이터를 조회합니다.\n",
        "logging.info(\"Retrieving data for single month...\")\n",
        "df = api.get_data(\n",
        "        property_type=selected_property_type,\n",
        "        trade_type=selected_trade_type,\n",
        "        sigungu_code=sigungu_code,\n",
        "        year_month=year_month,\n",
        "    )\n",
        "\n",
        "# 데이터의 마지막 몇 행을 출력합니다.\n",
        "logging.info(\"Displaying the last few rows of the data...\")\n",
        "df.tail()\n"
      ]
    },
    {
      "cell_type": "code",
      "source": [],
      "metadata": {
        "id": "uhFY0z9ynPf4"
      },
      "execution_count": null,
      "outputs": []
    },
    {
      "cell_type": "code",
      "source": [
        "!pip install PublicDataReader"
      ],
      "metadata": {
        "colab": {
          "base_uri": "https://localhost:8080/"
        },
        "id": "uytckJPbnPiT",
        "outputId": "992d7abc-df88-4e80-c3d0-1a9b65327668"
      },
      "execution_count": 2,
      "outputs": [
        {
          "output_type": "stream",
          "name": "stdout",
          "text": [
            "Looking in indexes: https://pypi.org/simple, https://us-python.pkg.dev/colab-wheels/public/simple/\n",
            "Collecting PublicDataReader\n",
            "  Downloading PublicDataReader-1.0.23-py3-none-any.whl (3.2 MB)\n",
            "\u001b[2K     \u001b[90m━━━━━━━━━━━━━━━━━━━━━━━━━━━━━━━━━━━━━━━━\u001b[0m \u001b[32m3.2/3.2 MB\u001b[0m \u001b[31m30.4 MB/s\u001b[0m eta \u001b[36m0:00:00\u001b[0m\n",
            "\u001b[?25hRequirement already satisfied: beautifulsoup4 in /usr/local/lib/python3.10/dist-packages (from PublicDataReader) (4.11.2)\n",
            "Requirement already satisfied: lxml in /usr/local/lib/python3.10/dist-packages (from PublicDataReader) (4.9.2)\n",
            "Requirement already satisfied: numpy in /usr/local/lib/python3.10/dist-packages (from PublicDataReader) (1.22.4)\n",
            "Requirement already satisfied: pandas in /usr/local/lib/python3.10/dist-packages (from PublicDataReader) (1.5.3)\n",
            "Requirement already satisfied: requests in /usr/local/lib/python3.10/dist-packages (from PublicDataReader) (2.27.1)\n",
            "Collecting xmltodict (from PublicDataReader)\n",
            "  Downloading xmltodict-0.13.0-py2.py3-none-any.whl (10.0 kB)\n",
            "Requirement already satisfied: soupsieve>1.2 in /usr/local/lib/python3.10/dist-packages (from beautifulsoup4->PublicDataReader) (2.4.1)\n",
            "Requirement already satisfied: python-dateutil>=2.8.1 in /usr/local/lib/python3.10/dist-packages (from pandas->PublicDataReader) (2.8.2)\n",
            "Requirement already satisfied: pytz>=2020.1 in /usr/local/lib/python3.10/dist-packages (from pandas->PublicDataReader) (2022.7.1)\n",
            "Requirement already satisfied: urllib3<1.27,>=1.21.1 in /usr/local/lib/python3.10/dist-packages (from requests->PublicDataReader) (1.26.16)\n",
            "Requirement already satisfied: certifi>=2017.4.17 in /usr/local/lib/python3.10/dist-packages (from requests->PublicDataReader) (2023.5.7)\n",
            "Requirement already satisfied: charset-normalizer~=2.0.0 in /usr/local/lib/python3.10/dist-packages (from requests->PublicDataReader) (2.0.12)\n",
            "Requirement already satisfied: idna<4,>=2.5 in /usr/local/lib/python3.10/dist-packages (from requests->PublicDataReader) (3.4)\n",
            "Requirement already satisfied: six>=1.5 in /usr/local/lib/python3.10/dist-packages (from python-dateutil>=2.8.1->pandas->PublicDataReader) (1.16.0)\n",
            "Installing collected packages: xmltodict, PublicDataReader\n",
            "Successfully installed PublicDataReader-1.0.23 xmltodict-0.13.0\n"
          ]
        }
      ]
    }
  ]
}