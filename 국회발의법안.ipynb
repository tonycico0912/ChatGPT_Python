{
  "nbformat": 4,
  "nbformat_minor": 0,
  "metadata": {
    "colab": {
      "provenance": [],
      "authorship_tag": "ABX9TyPBOzQm4rUdPlyd9zIfacdK",
      "include_colab_link": true
    },
    "kernelspec": {
      "name": "python3",
      "display_name": "Python 3"
    },
    "language_info": {
      "name": "python"
    }
  },
  "cells": [
    {
      "cell_type": "markdown",
      "metadata": {
        "id": "view-in-github",
        "colab_type": "text"
      },
      "source": [
        "<a href=\"https://colab.research.google.com/github/tonycico0912/ChatGPT_Python/blob/main/%EA%B5%AD%ED%9A%8C%EB%B0%9C%EC%9D%98%EB%B2%95%EC%95%88.ipynb\" target=\"_parent\"><img src=\"https://colab.research.google.com/assets/colab-badge.svg\" alt=\"Open In Colab\"/></a>"
      ]
    },
    {
      "cell_type": "code",
      "source": [
        "import requests\n",
        "import xml.etree.ElementTree as ET\n",
        "import pandas as pd\n",
        "from google.colab import files\n",
        "from bs4 import BeautifulSoup\n",
        "import openpyxl\n",
        "from openpyxl.utils import get_column_letter\n",
        "\n",
        "# API 호출에 필요한 기본 정보\n",
        "API_KEY = '20d952279d7240239bdaf1d81cfc5985'  # API 키를 입력\n",
        "AGE = '22'  # 22대 국회\n",
        "BASE_URL = 'https://open.assembly.go.kr/portal/openapi/nzmimeepazxkubdpn'\n",
        "\n",
        "# 수집할 의안 번호의 개수 입력\n",
        "num_bills = int(input(\"수집할 의안 번호의 개수를 입력하세요: \"))\n",
        "latest_bill_no = 2203462  # 최신 의안 번호를 시작점으로 설정\n",
        "\n",
        "# 수집할 의안 번호 리스트 생성\n",
        "bill_numbers = [str(latest_bill_no - i) for i in range(num_bills)]\n",
        "\n",
        "# 법안 데이터 저장 리스트\n",
        "bill_data = []\n",
        "\n",
        "# 각 의안 번호에 대해 정보 수집\n",
        "for bill_no in bill_numbers:\n",
        "    # API 호출 URL 생성\n",
        "    url = f\"{BASE_URL}?KEY={API_KEY}&Type=xml&AGE={AGE}&BILL_NO={bill_no}\"\n",
        "\n",
        "    # API 호출\n",
        "    response = requests.get(url)\n",
        "    response_text = response.text\n",
        "\n",
        "    # XML 파싱\n",
        "    root = ET.fromstring(response_text)\n",
        "\n",
        "    # XML 파싱 후 필요한 데이터 추출\n",
        "    for row in root.findall('row'):\n",
        "        bill_name = row.find('BILL_NAME').text\n",
        "        proposer = row.find('PROPOSER').text\n",
        "        member_list_url = row.find('MEMBER_LIST').text\n",
        "        committee = row.find('COMMITTEE').text if row.find('COMMITTEE') is not None else \"\"\n",
        "\n",
        "        # 발의 의원 명단 URL을 통해 추가 정보 불러오기\n",
        "        member_list_response = requests.get(member_list_url)\n",
        "        member_list_html = member_list_response.text\n",
        "\n",
        "        # HTML 파싱을 통해 발의 의원 명단 추출\n",
        "        soup = BeautifulSoup(member_list_html, 'html.parser')\n",
        "        member_list = soup.find_all('a')  # 의원 이름을 포함하는 링크 추출\n",
        "\n",
        "        # 의원 명단 추출 후 괄호 전 정보만 가져오고, 최대 30명까지 리스트에 추가\n",
        "        members = [member.text.strip().split('(')[0].strip() for member in member_list[:30]]\n",
        "\n",
        "        # API 데이터 파싱하여 리스트에 저장\n",
        "        bill_info = {\n",
        "            'BILL_NO': bill_no,\n",
        "            'BILL_NAME': bill_name,\n",
        "            'PROPOSER': proposer,\n",
        "            'COMMITTEE': committee\n",
        "        }\n",
        "        for i, member in enumerate(members):\n",
        "            bill_info[f'MEMBER_LIST{i + 1}'] = member\n",
        "\n",
        "        bill_data.append(bill_info)\n",
        "\n",
        "# DataFrame으로 변환\n",
        "df = pd.DataFrame(bill_data)\n",
        "\n",
        "# 사용자로부터 파일 이름 입력 받기\n",
        "file_name = input(\"저장할 엑셀 파일의 이름을 입력하세요 (확장자 제외): \") + \".xlsx\"\n",
        "\n",
        "# 엑셀 파일로 저장\n",
        "df.to_excel(file_name, index=False)\n",
        "\n",
        "# 엑셀 파일을 열어서 각 열의 너비를 자동으로 조정\n",
        "wb = openpyxl.load_workbook(file_name)\n",
        "ws = wb.active\n",
        "\n",
        "for col in ws.columns:\n",
        "    max_length = 0\n",
        "    column = col[0].column_letter  # 엑셀의 열 번호를 가져옴\n",
        "    for cell in col:\n",
        "        try:\n",
        "            if len(str(cell.value)) > max_length:\n",
        "                max_length = len(str(cell.value))\n",
        "        except:\n",
        "            pass\n",
        "    adjusted_width = (max_length + 2)\n",
        "    ws.column_dimensions[column].width = adjusted_width\n",
        "\n",
        "# 파일을 저장하고 다운로드 링크 생성\n",
        "wb.save(file_name)\n",
        "files.download(file_name)\n"
      ],
      "metadata": {
        "colab": {
          "base_uri": "https://localhost:8080/",
          "height": 54
        },
        "id": "f5zobQUAjshU",
        "outputId": "15970059-676d-4743-eb19-12eb654fd688"
      },
      "execution_count": 14,
      "outputs": [
        {
          "name": "stdout",
          "output_type": "stream",
          "text": [
            "수집할 의안 번호의 개수를 입력하세요: 100\n",
            "저장할 엑셀 파일의 이름을 입력하세요 (확장자 제외): 최근발의법안_100\n"
          ]
        },
        {
          "output_type": "display_data",
          "data": {
            "text/plain": [
              "<IPython.core.display.Javascript object>"
            ],
            "application/javascript": [
              "\n",
              "    async function download(id, filename, size) {\n",
              "      if (!google.colab.kernel.accessAllowed) {\n",
              "        return;\n",
              "      }\n",
              "      const div = document.createElement('div');\n",
              "      const label = document.createElement('label');\n",
              "      label.textContent = `Downloading \"${filename}\": `;\n",
              "      div.appendChild(label);\n",
              "      const progress = document.createElement('progress');\n",
              "      progress.max = size;\n",
              "      div.appendChild(progress);\n",
              "      document.body.appendChild(div);\n",
              "\n",
              "      const buffers = [];\n",
              "      let downloaded = 0;\n",
              "\n",
              "      const channel = await google.colab.kernel.comms.open(id);\n",
              "      // Send a message to notify the kernel that we're ready.\n",
              "      channel.send({})\n",
              "\n",
              "      for await (const message of channel.messages) {\n",
              "        // Send a message to notify the kernel that we're ready.\n",
              "        channel.send({})\n",
              "        if (message.buffers) {\n",
              "          for (const buffer of message.buffers) {\n",
              "            buffers.push(buffer);\n",
              "            downloaded += buffer.byteLength;\n",
              "            progress.value = downloaded;\n",
              "          }\n",
              "        }\n",
              "      }\n",
              "      const blob = new Blob(buffers, {type: 'application/binary'});\n",
              "      const a = document.createElement('a');\n",
              "      a.href = window.URL.createObjectURL(blob);\n",
              "      a.download = filename;\n",
              "      div.appendChild(a);\n",
              "      a.click();\n",
              "      div.remove();\n",
              "    }\n",
              "  "
            ]
          },
          "metadata": {}
        },
        {
          "output_type": "display_data",
          "data": {
            "text/plain": [
              "<IPython.core.display.Javascript object>"
            ],
            "application/javascript": [
              "download(\"download_8e0bf6c1-b142-49ef-859f-8e059a7d19c9\", \"\\ucd5c\\uadfc\\ubc1c\\uc758\\ubc95\\uc548_100.xlsx\", 17775)"
            ]
          },
          "metadata": {}
        }
      ]
    },
    {
      "cell_type": "code",
      "source": [
        "import pandas as pd\n",
        "import itertools\n",
        "from google.colab import files\n",
        "\n",
        "# 1. 사용자로부터 엑셀 파일 업로드\n",
        "uploaded = files.upload()\n",
        "file_name = list(uploaded.keys())[0]\n",
        "\n",
        "# 2. 엑셀 파일을 불러옵니다.\n",
        "df = pd.read_excel(file_name)\n",
        "\n",
        "# 3. NetMiner용 데이터를 저장할 리스트 초기화\n",
        "netminer_data = []\n",
        "\n",
        "# 4. 각 행에 대해 데이터를 처리합니다.\n",
        "for index, row in df.iterrows():\n",
        "    # MEMBER_LIST1을 대표 발의자로 설정\n",
        "    proposer = row['MEMBER_LIST1'].replace('의원', '').strip()\n",
        "\n",
        "    # 나머지 MEMBER_LIST를 공동 발의자로 설정\n",
        "    members = [row[f'MEMBER_LIST{i+1}'].replace('의원', '').strip() for i in range(1, len(row)-4) if pd.notna(row[f'MEMBER_LIST{i+1}'])]\n",
        "\n",
        "    # 대표-공동발의 관계 추가\n",
        "    for member in members:\n",
        "        if member != proposer:\n",
        "            netminer_data.append([proposer, member, \"대표-공동발의\", \"Yes\"])\n",
        "\n",
        "    # 공동발의자 간의 관계 추가\n",
        "    pairs = list(itertools.combinations(members, 2))\n",
        "    for pair in pairs:\n",
        "        netminer_data.append([pair[0], pair[1], \"공동발의\", \"No\"])\n",
        "\n",
        "# 5. DataFrame으로 변환\n",
        "netminer_df = pd.DataFrame(netminer_data, columns=[\"국회의원 1\", \"국회의원 2\", \"관계\", \"대표발의자 여부\"])\n",
        "\n",
        "# 6. 사용자로부터 저장할 파일 이름 입력 받기\n",
        "output_file_name = input(\"저장할 파일 이름을 입력하세요 (확장자 제외): \") + \".txt\"\n",
        "\n",
        "# 7. 텍스트 파일로 저장\n",
        "netminer_df.to_csv(output_file_name, sep='\\t', index=False, encoding='utf-8')\n",
        "\n",
        "# 결과 확인\n",
        "print(netminer_df.head())\n",
        "\n",
        "# 8. 파일 다운로드\n",
        "files.download(output_file_name)\n"
      ],
      "metadata": {
        "id": "FtK7nWXVb2ax"
      },
      "execution_count": null,
      "outputs": []
    }
  ]
}