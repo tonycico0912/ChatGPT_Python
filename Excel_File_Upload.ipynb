{
  "nbformat": 4,
  "nbformat_minor": 0,
  "metadata": {
    "colab": {
      "provenance": [],
      "authorship_tag": "ABX9TyM9zpqRLyDPRvjJ83/jCMKB",
      "include_colab_link": true
    },
    "kernelspec": {
      "name": "python3",
      "display_name": "Python 3"
    },
    "language_info": {
      "name": "python"
    }
  },
  "cells": [
    {
      "cell_type": "markdown",
      "metadata": {
        "id": "view-in-github",
        "colab_type": "text"
      },
      "source": [
        "<a href=\"https://colab.research.google.com/github/tonycico0912/ChatGPT_Python/blob/main/Excel_File_Upload.ipynb\" target=\"_parent\"><img src=\"https://colab.research.google.com/assets/colab-badge.svg\" alt=\"Open In Colab\"/></a>"
      ]
    },
    {
      "cell_type": "code",
      "execution_count": 6,
      "metadata": {
        "colab": {
          "base_uri": "https://localhost:8080/"
        },
        "id": "M6SX1S31DJu5",
        "outputId": "93fbee19-d9a0-438d-e14d-5f9b96d6443c"
      },
      "outputs": [
        {
          "output_type": "stream",
          "name": "stdout",
          "text": [
            "<class 'pandas.core.frame.DataFrame'>\n",
            "RangeIndex: 4 entries, 0 to 3\n",
            "Data columns (total 6 columns):\n",
            " #   Column  Non-Null Count  Dtype  \n",
            "---  ------  --------------  -----  \n",
            " 0   날짜      4 non-null      int64  \n",
            " 1   시간      4 non-null      float64\n",
            " 2   상품명     4 non-null      object \n",
            " 3   카테고리    4 non-null      object \n",
            " 4   가격      4 non-null      object \n",
            " 5   판매량     3 non-null      float64\n",
            "dtypes: float64(2), int64(1), object(3)\n",
            "memory usage: 320.0+ bytes\n",
            "None\n"
          ]
        }
      ],
      "source": [
        "from google.colab import files\n",
        "import pandas as pd\n",
        "\n",
        "# 파일 업로드\n",
        "uploaded = files.upload()\n",
        "\n",
        "# 업로드된 파일 읽기\n",
        "df = pd.read_excel(next(iter(uploaded)))  # 업로드한 파일명으로 변경해야 합니다.\n",
        "\n",
        "# 데이터 확인\n",
        "print(df.head())\n",
        "\n",
        "# 데이터프레임 형태 확인\n",
        "print(df.shape)\n",
        "\n",
        "# 열 이름 확인\n",
        "print(df.columns)\n",
        "\n",
        "# 데이터프레임 정보 확인\n",
        "print(df.info())\n"
      ]
    }
  ]
}