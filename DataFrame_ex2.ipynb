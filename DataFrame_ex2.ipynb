{
  "nbformat": 4,
  "nbformat_minor": 0,
  "metadata": {
    "colab": {
      "provenance": [],
      "authorship_tag": "ABX9TyNzzYXlIsX3VXe0aPFSCzic",
      "include_colab_link": true
    },
    "kernelspec": {
      "name": "python3",
      "display_name": "Python 3"
    },
    "language_info": {
      "name": "python"
    }
  },
  "cells": [
    {
      "cell_type": "markdown",
      "metadata": {
        "id": "view-in-github",
        "colab_type": "text"
      },
      "source": [
        "<a href=\"https://colab.research.google.com/github/tonycico0912/ChatGPT_Python/blob/main/DataFrame_ex2.ipynb\" target=\"_parent\"><img src=\"https://colab.research.google.com/assets/colab-badge.svg\" alt=\"Open In Colab\"/></a>"
      ]
    },
    {
      "cell_type": "code",
      "execution_count": 5,
      "metadata": {
        "colab": {
          "base_uri": "https://localhost:8080/"
        },
        "id": "qTu0ME92Xe08",
        "outputId": "03130ebc-d659-451c-c985-769509561676"
      },
      "outputs": [
        {
          "output_type": "stream",
          "name": "stdout",
          "text": [
            "      A    B    C    D\n",
            "8    A0   B0   C0   D0\n",
            "9    A1   B1   C1   D1\n",
            "10   A2   B2   C2   D2\n",
            "11   A3   B3   C3   D3\n",
            "4    A4   B4   C4   D4\n",
            "5    A5   B5   C5   D5\n",
            "6    A6   B6   C6   D6\n",
            "7    A7   B7   C7   D7\n",
            "0    A8   B8   C8   D8\n",
            "1    A9   B9   C9   D9\n",
            "2   A10  B10  C10  D10\n",
            "3   A11  B11  C11  D11\n",
            "----------------\n",
            "A    A8\n",
            "B    B8\n",
            "C    C8\n",
            "D    D8\n",
            "Name: 0, dtype: object\n"
          ]
        }
      ],
      "source": [
        "# pandas 라이브러리를 pd라는 이름으로 가져옵니다.\n",
        "import pandas as pd\n",
        "\n",
        "# 첫 번째 데이터프레임(df1)을 생성합니다.\n",
        "# 이 데이터프레임은 A, B, C, D라는 4개의 열을 가지며, 각 열에는 4개의 값이 있습니다.\n",
        "# 이 데이터프레임의 인덱스는 8, 9, 10, 11입니다.\n",
        "df1 = pd.DataFrame({\n",
        "    \"A\": [\"A0\", \"A1\", \"A2\", \"A3\"],\n",
        "    \"B\": [\"B0\", \"B1\", \"B2\", \"B3\"],\n",
        "    \"C\": [\"C0\", \"C1\", \"C2\", \"C3\"],\n",
        "    \"D\": [\"D0\", \"D1\", \"D2\", \"D3\"]\n",
        "},\n",
        "      index=[8, 9, 10, 11],\n",
        ")\n",
        "\n",
        "# 두 번째 데이터프레임(df2)을 생성합니다.\n",
        "# 이 데이터프레임은 A, B, C, D라는 4개의 열을 가지며, 각 열에는 4개의 값이 있습니다.\n",
        "# 이 데이터프레임의 인덱스는 4, 5, 6, 7입니다.\n",
        "df2 = pd.DataFrame({\n",
        "    \"A\": [\"A4\", \"A5\", \"A6\", \"A7\"],\n",
        "    \"B\": [\"B4\", \"B5\", \"B6\", \"B7\"],\n",
        "    \"C\": [\"C4\", \"C5\", \"C6\", \"C7\"],\n",
        "    \"D\": [\"D4\", \"D5\", \"D6\", \"D7\"]\n",
        "},\n",
        "    index=[4, 5, 6, 7],\n",
        ")\n",
        "\n",
        "# 세 번째 데이터프레임(df3)을 생성합니다.\n",
        "# 이 데이터프레임은 A, B, C, D라는 4개의 열을 가지며, 각 열에는 4개의 값이 있습니다.\n",
        "# 이 데이터프레임의 인덱스는 0, 1, 2, 3입니다.\n",
        "df3 = pd.DataFrame({\n",
        "    \"A\": [\"A8\", \"A9\", \"A10\", \"A11\"],\n",
        "    \"B\": [\"B8\", \"B9\", \"B10\", \"B11\"],\n",
        "    \"C\": [\"C8\", \"C9\", \"C10\", \"C11\"],\n",
        "    \"D\": [\"D8\", \"D9\", \"D10\", \"D11\"]\n",
        "},\n",
        "     index=[0, 1, 2, 3],\n",
        ")\n",
        "\n",
        "# 위에서 생성한 세 개의 데이터프레임(df1, df2, df3)을 연결(concat)하여 새로운 데이터프레임(result)을 생성합니다.\n",
        "# pd.concat 함수는 주어진 순서대로 데이터프레임을 연결합니다.\n",
        "result = pd.concat([df1, df2, df3])\n",
        "\n",
        "# 최종 결과 데이터프레임을 출력합니다.\n",
        "print(result)\n",
        "print('----------------')\n",
        "\n",
        "print(result.loc[0])\n",
        "\n",
        "\n"
      ]
    },
    {
      "cell_type": "code",
      "source": [],
      "metadata": {
        "id": "vOScX6LaYZ-8"
      },
      "execution_count": null,
      "outputs": []
    }
  ]
}