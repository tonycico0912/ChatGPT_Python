{
  "nbformat": 4,
  "nbformat_minor": 0,
  "metadata": {
    "colab": {
      "provenance": [],
      "authorship_tag": "ABX9TyMEqWoa5BZCGsS5Td8b72ue",
      "include_colab_link": true
    },
    "kernelspec": {
      "name": "python3",
      "display_name": "Python 3"
    },
    "language_info": {
      "name": "python"
    }
  },
  "cells": [
    {
      "cell_type": "markdown",
      "metadata": {
        "id": "view-in-github",
        "colab_type": "text"
      },
      "source": [
        "<a href=\"https://colab.research.google.com/github/tonycico0912/ChatGPT_Python/blob/main/%EA%B5%AD%EB%82%B4%EC%A3%BC%EC%8B%9D_%ED%81%AC%EB%A1%A4%EB%A7%81.ipynb\" target=\"_parent\"><img src=\"https://colab.research.google.com/assets/colab-badge.svg\" alt=\"Open In Colab\"/></a>"
      ]
    },
    {
      "cell_type": "code",
      "execution_count": 1,
      "metadata": {
        "colab": {
          "base_uri": "https://localhost:8080/",
          "height": 17
        },
        "id": "t6IPdkQF7VPr",
        "outputId": "bd1cb771-e7ea-4891-c526-b310935c641f"
      },
      "outputs": [
        {
          "output_type": "display_data",
          "data": {
            "text/plain": [
              "<IPython.core.display.Javascript object>"
            ],
            "application/javascript": [
              "\n",
              "    async function download(id, filename, size) {\n",
              "      if (!google.colab.kernel.accessAllowed) {\n",
              "        return;\n",
              "      }\n",
              "      const div = document.createElement('div');\n",
              "      const label = document.createElement('label');\n",
              "      label.textContent = `Downloading \"${filename}\": `;\n",
              "      div.appendChild(label);\n",
              "      const progress = document.createElement('progress');\n",
              "      progress.max = size;\n",
              "      div.appendChild(progress);\n",
              "      document.body.appendChild(div);\n",
              "\n",
              "      const buffers = [];\n",
              "      let downloaded = 0;\n",
              "\n",
              "      const channel = await google.colab.kernel.comms.open(id);\n",
              "      // Send a message to notify the kernel that we're ready.\n",
              "      channel.send({})\n",
              "\n",
              "      for await (const message of channel.messages) {\n",
              "        // Send a message to notify the kernel that we're ready.\n",
              "        channel.send({})\n",
              "        if (message.buffers) {\n",
              "          for (const buffer of message.buffers) {\n",
              "            buffers.push(buffer);\n",
              "            downloaded += buffer.byteLength;\n",
              "            progress.value = downloaded;\n",
              "          }\n",
              "        }\n",
              "      }\n",
              "      const blob = new Blob(buffers, {type: 'application/binary'});\n",
              "      const a = document.createElement('a');\n",
              "      a.href = window.URL.createObjectURL(blob);\n",
              "      a.download = filename;\n",
              "      div.appendChild(a);\n",
              "      a.click();\n",
              "      div.remove();\n",
              "    }\n",
              "  "
            ]
          },
          "metadata": {}
        },
        {
          "output_type": "display_data",
          "data": {
            "text/plain": [
              "<IPython.core.display.Javascript object>"
            ],
            "application/javascript": [
              "download(\"download_b2e5977c-ab30-4cc0-8ef7-e6369369ec14\", \"SEC_CD_20230712.xlsx\", 198011)"
            ]
          },
          "metadata": {}
        }
      ],
      "source": [
        "import json\n",
        "import requests as rq\n",
        "import pandas as pd\n",
        "from google.colab import files\n",
        "import openpyxl\n",
        "from bs4 import BeautifulSoup\n",
        "import re\n",
        "\n",
        "# sec_cd 값과 해당하는 설명을 딕셔너리로 정의합니다.\n",
        "sec_cd_dict = {f\"G{i:02}\": \"\" for i in range(1, 51)}\n",
        "\n",
        "# biz_day를 정의합니다.\n",
        "url = 'https://finance.naver.com/sise/sise_deposit.nhn'\n",
        "data = rq.get(url)\n",
        "data_html = BeautifulSoup(data.content, 'html.parser')\n",
        "parse_day = data_html.select_one('div.subtop_sise_graph2 > ul.subtop_chart_note > li > span.tah').text\n",
        "biz_day = ''.join(re.findall('[0-9]+', parse_day))\n",
        "\n",
        "# 파일명을 설정합니다.\n",
        "file_name = f'SEC_CD_{biz_day}'\n",
        "\n",
        "# 새로운 엑셀 파일을 생성합니다.\n",
        "with pd.ExcelWriter(f'{file_name}.xlsx') as writer:\n",
        "    # sec_cd 값들을 순회합니다.\n",
        "    for sec_cd in sec_cd_dict.keys():\n",
        "        # 입력받은 sec_cd 값을 URL에 포함시킵니다.\n",
        "        url = f'''http://www.wiseindex.com/Index/GetIndexComponets?ceil_yn=0&dt={biz_day}&sec_cd={sec_cd}'''\n",
        "\n",
        "        # URL에서 데이터를 가져옵니다.\n",
        "        data = rq.get(url).json()\n",
        "\n",
        "        # 데이터가 없는 경우 건너뜁니다.\n",
        "        if not data['list']:\n",
        "            continue\n",
        "\n",
        "        # 데이터를 DataFrame으로 변환합니다.\n",
        "        data_pd = pd.json_normalize(data['list'])\n",
        "\n",
        "        # sec_nm_kor 값을 가져와 테이블에 추가합니다.\n",
        "        sec_nm_kor = data_pd['SEC_NM_KOR'].iloc[0]\n",
        "        sec_cd_dict[sec_cd] = sec_nm_kor\n",
        "\n",
        "        # DataFrame을 엑셀 파일의 새 워크시트에 저장합니다.\n",
        "        data_pd.to_excel(writer, sheet_name=f'{sec_cd}', index=False)\n",
        "\n",
        "# 엑셀 파일을 다운로드합니다.\n",
        "files.download(f'{file_name}.xlsx')\n"
      ]
    },
    {
      "cell_type": "code",
      "source": [
        "import json\n",
        "import requests as rq\n",
        "import pandas as pd\n",
        "from google.colab import files\n",
        "import openpyxl\n",
        "from bs4 import BeautifulSoup\n",
        "import re\n",
        "\n",
        "# sec_cd 값과 해당하는 설명을 딕셔너리로 정의합니다.\n",
        "sec_cd_dict = {f\"G{i:02}\": \"\" for i in range(1, 51)}\n",
        "\n",
        "# biz_day를 정의합니다.\n",
        "url = 'https://finance.naver.com/sise/sise_deposit.nhn'\n",
        "data = rq.get(url)\n",
        "data_html = BeautifulSoup(data.content, 'html.parser')\n",
        "parse_day = data_html.select_one('div.subtop_sise_graph2 > ul.subtop_chart_note > li > span.tah').text\n",
        "biz_day = ''.join(re.findall('[0-9]+', parse_day))\n",
        "\n",
        "# 파일명을 설정합니다.\n",
        "file_name = f'SEC_CD_{biz_day}'\n",
        "\n",
        "# 새로운 엑셀 파일을 생성합니다.\n",
        "with pd.ExcelWriter(f'{file_name}.xlsx') as writer:\n",
        "    # sec_cd 값들을 순회합니다.\n",
        "    for sec_cd in sec_cd_dict.keys():\n",
        "        # 입력받은 sec_cd 값을 URL에 포함시킵니다.\n",
        "        url = f'''http://www.wiseindex.com/Index/GetIndexComponets?ceil_yn=0&dt={biz_day}&sec_cd={sec_cd}'''\n",
        "\n",
        "        # URL에서 데이터를 가져옵니다.\n",
        "        data = rq.get(url).json()\n",
        "\n",
        "        # 데이터가 없는 경우 건너뜁니다.\n",
        "        if not data['list']:\n",
        "            continue\n",
        "\n",
        "        # 데이터를 DataFrame으로 변환합니다.\n",
        "        data_pd = pd.json_normalize(data['list'])\n",
        "\n",
        "        # sec_nm_kor 값을 가져와 테이블에 추가합니다.\n",
        "        sec_nm_kor = data_pd['SEC_NM_KOR'].iloc[0]\n",
        "        sec_cd_dict[sec_cd] = sec_nm_kor\n",
        "\n",
        "        # DataFrame을 엑셀 파일의 새 워크시트에 저장합니다.\n",
        "        data_pd.to_excel(writer, sheet_name=f'{sec_cd}', index=False)\n",
        "\n",
        "# 엑셀 파일을 다운로드합니다.\n",
        "files.download(f'{file_name}.xlsx')\n"
      ],
      "metadata": {
        "colab": {
          "base_uri": "https://localhost:8080/",
          "height": 17
        },
        "id": "SgJDfuXeCwGt",
        "outputId": "37f1dd4b-db94-4e73-a91a-b0635af3cb44"
      },
      "execution_count": 3,
      "outputs": [
        {
          "output_type": "display_data",
          "data": {
            "text/plain": [
              "<IPython.core.display.Javascript object>"
            ],
            "application/javascript": [
              "\n",
              "    async function download(id, filename, size) {\n",
              "      if (!google.colab.kernel.accessAllowed) {\n",
              "        return;\n",
              "      }\n",
              "      const div = document.createElement('div');\n",
              "      const label = document.createElement('label');\n",
              "      label.textContent = `Downloading \"${filename}\": `;\n",
              "      div.appendChild(label);\n",
              "      const progress = document.createElement('progress');\n",
              "      progress.max = size;\n",
              "      div.appendChild(progress);\n",
              "      document.body.appendChild(div);\n",
              "\n",
              "      const buffers = [];\n",
              "      let downloaded = 0;\n",
              "\n",
              "      const channel = await google.colab.kernel.comms.open(id);\n",
              "      // Send a message to notify the kernel that we're ready.\n",
              "      channel.send({})\n",
              "\n",
              "      for await (const message of channel.messages) {\n",
              "        // Send a message to notify the kernel that we're ready.\n",
              "        channel.send({})\n",
              "        if (message.buffers) {\n",
              "          for (const buffer of message.buffers) {\n",
              "            buffers.push(buffer);\n",
              "            downloaded += buffer.byteLength;\n",
              "            progress.value = downloaded;\n",
              "          }\n",
              "        }\n",
              "      }\n",
              "      const blob = new Blob(buffers, {type: 'application/binary'});\n",
              "      const a = document.createElement('a');\n",
              "      a.href = window.URL.createObjectURL(blob);\n",
              "      a.download = filename;\n",
              "      div.appendChild(a);\n",
              "      a.click();\n",
              "      div.remove();\n",
              "    }\n",
              "  "
            ]
          },
          "metadata": {}
        },
        {
          "output_type": "display_data",
          "data": {
            "text/plain": [
              "<IPython.core.display.Javascript object>"
            ],
            "application/javascript": [
              "download(\"download_949ed69b-b293-4823-abfc-347fca63c216\", \"SEC_CD_20230712.xlsx\", 198011)"
            ]
          },
          "metadata": {}
        }
      ]
    }
  ]
}