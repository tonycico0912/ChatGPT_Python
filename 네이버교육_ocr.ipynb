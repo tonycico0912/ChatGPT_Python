{
  "nbformat": 4,
  "nbformat_minor": 0,
  "metadata": {
    "colab": {
      "provenance": [],
      "authorship_tag": "ABX9TyPvOEFJQalvG19Z0iWKoUej",
      "include_colab_link": true
    },
    "kernelspec": {
      "name": "python3",
      "display_name": "Python 3"
    },
    "language_info": {
      "name": "python"
    }
  },
  "cells": [
    {
      "cell_type": "markdown",
      "metadata": {
        "id": "view-in-github",
        "colab_type": "text"
      },
      "source": [
        "<a href=\"https://colab.research.google.com/github/tonycico0912/ChatGPT_Python/blob/main/%EB%84%A4%EC%9D%B4%EB%B2%84%EA%B5%90%EC%9C%A1_ocr.ipynb\" target=\"_parent\"><img src=\"https://colab.research.google.com/assets/colab-badge.svg\" alt=\"Open In Colab\"/></a>"
      ]
    },
    {
      "cell_type": "code",
      "execution_count": null,
      "metadata": {
        "id": "oXQTUcWjdyjf"
      },
      "outputs": [],
      "source": [
        "import requests\n",
        "import datetime\n",
        "import json\n",
        "import base64\n",
        "from google.colab import files\n",
        "\n",
        "# API 정보\n",
        "api_url = \"http://clovaocr-api-kr.ncloud.com/external/v1/23393/955bd967d5bc739d17dc5ece5ccdaf734227cad2782b669b786febbfb5bf3d92\"\n",
        "x_ocr_secret = \"UHVzQ0ZFamp4ZWdYVUZsQlp4UWhyQUtkUnVIb2FTRXE=\"  # X-OCR-SECRET\n",
        "\n",
        "# 파일 업로드\n",
        "uploaded = files.upload()\n",
        "for fn in uploaded.keys():\n",
        "  print('User uploaded file \"{name}\" with length {length} bytes'.format(\n",
        "      name=fn, length=len(uploaded[fn])))\n",
        "\n",
        "# 파일 이름을 사용해서 이미지 파일을 Base64 인코딩으로 변환합니다.\n",
        "encoded_image = base64.b64encode(uploaded[fn]).decode('utf-8')\n",
        "\n",
        "# API에 전달할 데이터\n",
        "data = {\n",
        "    \"version\": \"V2\",\n",
        "    \"requestId\": \"string\",\n",
        "    \"timestamp\": int(datetime.datetime.now().timestamp()),\n",
        "    \"images\": [\n",
        "        {\n",
        "            \"format\": fn.split('.')[-1],  # 확장자 추출\n",
        "            \"name\": \"medium\",\n",
        "            \"data\": encoded_image\n",
        "        }\n",
        "    ]\n",
        "}\n",
        "\n",
        "# API에 전달할 헤더\n",
        "headers = {\n",
        "    \"Content-Type\": \"application/json\",\n",
        "    \"X-OCR-SECRET\": x_ocr_secret\n",
        "}\n",
        "\n",
        "# POST 요청을 보냅니다.\n",
        "response = requests.post(api_url, headers=headers, data=json.dumps(data))\n",
        "\n",
        "# 요청이 성공적인지 확인합니다.\n",
        "if response.status_code == 200:\n",
        "    # 성공적인 경우, 응답 데이터를 파싱합니다.\n",
        "    response_data = response.json()\n",
        "    print(response_data)\n",
        "else:\n",
        "    # 실패한 경우, 오류 메시지를 출력합니다.\n",
        "    print(f\"Request failed. Status code: {response.status_code}\")\n"
      ]
    }
  ]
}