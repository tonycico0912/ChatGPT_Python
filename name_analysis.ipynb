{
  "nbformat": 4,
  "nbformat_minor": 0,
  "metadata": {
    "colab": {
      "provenance": [],
      "authorship_tag": "ABX9TyMJ90NVMcW3iNXhs3YGAY76",
      "include_colab_link": true
    },
    "kernelspec": {
      "name": "python3",
      "display_name": "Python 3"
    },
    "language_info": {
      "name": "python"
    }
  },
  "cells": [
    {
      "cell_type": "markdown",
      "metadata": {
        "id": "view-in-github",
        "colab_type": "text"
      },
      "source": [
        "<a href=\"https://colab.research.google.com/github/tonycico0912/ChatGPT_Python/blob/main/name_analysis.ipynb\" target=\"_parent\"><img src=\"https://colab.research.google.com/assets/colab-badge.svg\" alt=\"Open In Colab\"/></a>"
      ]
    },
    {
      "cell_type": "code",
      "execution_count": null,
      "metadata": {
        "colab": {
          "base_uri": "https://localhost:8080/"
        },
        "id": "Ebdie0R227LY",
        "outputId": "2a33b84f-a77b-47cd-fb59-2faf36b00dde"
      },
      "outputs": [
        {
          "output_type": "stream",
          "name": "stdout",
          "text": [
            "Looking in indexes: https://pypi.org/simple, https://us-python.pkg.dev/colab-wheels/public/simple/\n",
            "Collecting hgtk\n",
            "  Downloading hgtk-0.2.0-py2.py3-none-any.whl (10 kB)\n",
            "Installing collected packages: hgtk\n",
            "Successfully installed hgtk-0.2.0\n"
          ]
        }
      ],
      "source": [
        "!pip install hgtk"
      ]
    },
    {
      "cell_type": "code",
      "source": [
        "import hgtk\n",
        "\n",
        "# 자음과 모음 값 정의\n",
        "char_value = {\n",
        "    \"ㄱ\": 1,  # 자음 'ㄱ'에 대한 값은 1\n",
        "    \"ㄴ\": 1,  # 자음 'ㄴ'에 대한 값은 1\n",
        "    \"ㄷ\": 2,  # 자음 'ㄷ'에 대한 값은 2\n",
        "    \"ㄹ\": 3,  # 자음 'ㄹ'에 대한 값은 3\n",
        "    \"ㅁ\": 3,  # 자음 'ㅁ'에 대한 값은 3\n",
        "    \"ㅂ\": 4,  # 자음 'ㅂ'에 대한 값은 4\n",
        "    \"ㅅ\": 2,  # 자음 'ㅅ'에 대한 값은 2\n",
        "    \"ㅇ\": 2,  # 자음 'ㅇ'에 대한 값은 2\n",
        "    \"ㅈ\": 3,  # 자음 'ㅈ'에 대한 값은 3\n",
        "    \"ㅊ\": 4,  # 자음 'ㅊ'에 대한 값은 4\n",
        "    \"ㅋ\": 2,  # 자음 'ㅋ'에 대한 값은 2\n",
        "    \"ㅌ\": 3,  # 자음 'ㅌ'에 대한 값은 3\n",
        "    \"ㅍ\": 4,  # 자음 'ㅍ'에 대한 값은 4\n",
        "    \"ㅎ\": 4,  # 자음 'ㅎ'에 대한 값은 4\n",
        "    \"ㅏ\": 2,  # 모음 'ㅏ'에 대한 값은 2\n",
        "    \"ㅑ\": 3,  # 모음 'ㅑ'에 대한 값은 3\n",
        "    \"ㅓ\": 2,  # 모음 'ㅓ'에 대한 값은 2\n",
        "    \"ㅕ\": 3,  # 모음 'ㅕ'에 대한 값은 3\n",
        "    \"ㅗ\": 2,  # 모음 'ㅗ'에 대한 값은 2\n",
        "    \"ㅛ\": 3,  # 모음 'ㅛ'에 대한 값은 3\n",
        "    \"ㅜ\": 2,  # 모음 'ㅜ'에 대한 값은 2\n",
        "    \"ㅠ\": 3,  # 모음 'ㅠ'에 대한 값은 3\n",
        "    \"ㅡ\": 1,  # 모음 'ㅡ'에 대한 값은 1\n",
        "    \"ㅣ\": 1,  # 모음 'ㅣ'에 대한 값은 1\n",
        "}\n",
        "\n",
        "# 복합 모음 분해 함수\n",
        "def decompose_diphthong(vowel):\n",
        "    \"\"\"\n",
        "    복합 모음을 분해하는 함수.\n",
        "    Args:\n",
        "        vowel (str): 분해할 복합 모음\n",
        "    Returns:\n",
        "        list: 분해된 모음들의 리스트\n",
        "    \"\"\"\n",
        "    if vowel in ['ㅘ', 'ㅙ']:\n",
        "        return ['ㅗ', 'ㅏ']\n",
        "    elif vowel == 'ㅚ':\n",
        "        return ['ㅗ', 'ㅣ']\n",
        "    elif vowel in ['ㅝ', 'ㅞ']:\n",
        "        return ['ㅜ', 'ㅓ']\n",
        "    elif vowel == 'ㅟ':\n",
        "        return ['ㅜ', 'ㅣ']\n",
        "    elif vowel == 'ㅢ':\n",
        "        return ['ㅡ', 'ㅣ']\n",
        "    else:\n",
        "        return [vowel]\n",
        "\n",
        "# 사용자로부터 이름 입력 받기\n",
        "name = input(\"이름을 입력해주세요: \")\n",
        "\n",
        "# 각 글자에 대해 분해 후 값 계산\n",
        "for char in name:\n",
        "    cho, jung, jong = hgtk.letter.decompose(char)\n",
        "    syllable_value = 0\n",
        "    calc_str = []\n",
        "    for c in [cho] + decompose_diphthong(jung) + [jong]:\n",
        "        if c:  # 공백 문자는 제외\n",
        "            value = char_value.get(c, 0)  # 값이 정의되지 않은 문자는 0으로 처리\n",
        "            syllable_value += value\n",
        "            calc_str.append(f\"{c}={value}\")\n",
        "    print(f\"{char} = {' + '.join(calc_str)} = {syllable_value}\")\n",
        "\n"
      ],
      "metadata": {
        "id": "T6j166uY3HB0",
        "colab": {
          "base_uri": "https://localhost:8080/"
        },
        "outputId": "3d1a72bf-f050-4e1e-c116-7c359de5e2f1"
      },
      "execution_count": null,
      "outputs": [
        {
          "output_type": "stream",
          "name": "stdout",
          "text": [
            "이름을 입력해주세요: 박형남\n",
            "박 = ㅂ=4 + ㅏ=2 + ㄱ=1 = 7\n",
            "형 = ㅎ=4 + ㅕ=3 + ㅇ=2 = 9\n",
            "남 = ㄴ=1 + ㅏ=2 + ㅁ=3 = 6\n"
          ]
        }
      ]
    }
  ]
}