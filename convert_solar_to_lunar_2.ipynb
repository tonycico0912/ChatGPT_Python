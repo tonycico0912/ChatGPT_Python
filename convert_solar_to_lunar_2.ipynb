{
  "nbformat": 4,
  "nbformat_minor": 0,
  "metadata": {
    "colab": {
      "provenance": [],
      "authorship_tag": "ABX9TyMJwk4O0zHLRS8R97sbuGNc",
      "include_colab_link": true
    },
    "kernelspec": {
      "name": "python3",
      "display_name": "Python 3"
    },
    "language_info": {
      "name": "python"
    }
  },
  "cells": [
    {
      "cell_type": "markdown",
      "metadata": {
        "id": "view-in-github",
        "colab_type": "text"
      },
      "source": [
        "<a href=\"https://colab.research.google.com/github/tonycico0912/ChatGPT_Python/blob/main/convert_solar_to_lunar_2.ipynb\" target=\"_parent\"><img src=\"https://colab.research.google.com/assets/colab-badge.svg\" alt=\"Open In Colab\"/></a>"
      ]
    },
    {
      "cell_type": "code",
      "execution_count": 6,
      "metadata": {
        "colab": {
          "base_uri": "https://localhost:8080/"
        },
        "id": "I2K07u2XO4dl",
        "outputId": "9cdbe2cd-ed5d-4af4-c98a-71ffedd82dae"
      },
      "outputs": [
        {
          "output_type": "stream",
          "name": "stdout",
          "text": [
            "날짜를 입력하세요 (예: 2023-06-26): 2023-06-26\n",
            "결과:  5\n"
          ]
        }
      ],
      "source": [
        "from korean_lunar_calendar import KoreanLunarCalendar\n",
        "from datetime import datetime\n",
        "\n",
        "# KoreanLunarCalendar 인스턴스 생성\n",
        "calendar = KoreanLunarCalendar()\n",
        "\n",
        "# 사용자로부터 날짜를 입력받음\n",
        "date_input = input(\"날짜를 입력하세요 (예: 2023-06-26): \")\n",
        "year, month, day = map(int, date_input.split('-'))\n",
        "\n",
        "# 입력받은 날짜를 datetime 객체로 변환\n",
        "date = datetime(year, month, day)\n",
        "\n",
        "# 양력 날짜를 음력 날짜로 변환\n",
        "calendar.setSolarDate(year, month, day)\n",
        "lunar_year, lunar_month, lunar_day = calendar.LunarIsoFormat().split('-')\n",
        "\n",
        "# 월과 일을 더해서 9로 나눔\n",
        "result = (int(lunar_month) + int(lunar_day)) % 9\n",
        "\n",
        "# 결과 출력\n",
        "print(\"결과: \", result)\n",
        "\n",
        "# 만약 결과가 6이면 특정 문구 출력\n",
        "if result == 6:\n",
        "    print(\"오늘은 각별히 주의해야 합니다.\")\n"
      ]
    },
    {
      "cell_type": "code",
      "source": [
        "!pip install  korean_lunar_calendar"
      ],
      "metadata": {
        "colab": {
          "base_uri": "https://localhost:8080/"
        },
        "id": "La_9c13KPCHj",
        "outputId": "80c2c6a8-afb9-40cc-f7dc-5e0db6e4e90c"
      },
      "execution_count": 2,
      "outputs": [
        {
          "output_type": "stream",
          "name": "stdout",
          "text": [
            "Looking in indexes: https://pypi.org/simple, https://us-python.pkg.dev/colab-wheels/public/simple/\n",
            "Collecting korean_lunar_calendar\n",
            "  Downloading korean_lunar_calendar-0.3.1-py3-none-any.whl (9.0 kB)\n",
            "Installing collected packages: korean_lunar_calendar\n",
            "Successfully installed korean_lunar_calendar-0.3.1\n"
          ]
        }
      ]
    }
  ]
}