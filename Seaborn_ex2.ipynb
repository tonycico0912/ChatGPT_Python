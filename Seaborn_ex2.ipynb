{
  "nbformat": 4,
  "nbformat_minor": 0,
  "metadata": {
    "colab": {
      "provenance": [],
      "authorship_tag": "ABX9TyOMe63MadwBnp5EOJVjdpm9",
      "include_colab_link": true
    },
    "kernelspec": {
      "name": "python3",
      "display_name": "Python 3"
    },
    "language_info": {
      "name": "python"
    }
  },
  "cells": [
    {
      "cell_type": "markdown",
      "metadata": {
        "id": "view-in-github",
        "colab_type": "text"
      },
      "source": [
        "<a href=\"https://colab.research.google.com/github/tonycico0912/ChatGPT_Python/blob/main/Seaborn_ex2.ipynb\" target=\"_parent\"><img src=\"https://colab.research.google.com/assets/colab-badge.svg\" alt=\"Open In Colab\"/></a>"
      ]
    },
    {
      "cell_type": "code",
      "execution_count": null,
      "metadata": {
        "id": "mVW5GW-wUeWg"
      },
      "outputs": [],
      "source": [
        "# seaborn 라이브러리를 sns라는 이름으로 임포트합니다. seaborn은 데이터 시각화를 위한 라이브러리입니다.\n",
        "import seaborn as sns\n",
        "\n",
        "# matplotlib의 pyplot 모듈을 plt라는 이름으로 임포트합니다. 이 모듈은 그래프를 그리는데 사용됩니다.\n",
        "import matplotlib.pyplot as plt\n",
        "\n",
        "# seaborn 라이브러리의 load_dataset 함수를 사용하여 'penguins' 데이터셋을 로드하고, 이를 df라는 변수에 저장합니다.\n",
        "df = sns.load_dataset('penguins')\n",
        "\n",
        "# 데이터셋의 내용을 출력합니다.\n",
        "print(df)\n",
        "\n",
        "# scatter plot을 그립니다. x축은 'flipper_length_mm' 열의 값들이고, y축은 'body_mass_g' 열의 값들입니다.\n",
        "plt.scatter(df['flipper_length_mm'], df['body_mass_g'])\n",
        "\n",
        "# 그래프를 화면에 표시합니다.\n",
        "plt.show()\n",
        "\n",
        "# 'species'를 기준으로 그룹화하고, 각 그룹의 'body_mass_g'의 평균을 계산합니다. 그 결과를 새로운 데이터프레임 df_group에 저장합니다.\n",
        "df_group = df.groupby('species')['body_mass_g'].mean().reset_index()\n",
        "\n",
        "# bar plot을 그립니다. x축은 'species'이고, y축은 'body_mass_g'의 평균입니다.\n",
        "plt.bar(x=df_group['species'], height=df_group['body_mass_g'])\n",
        "\n",
        "# 그래프를 화면에 표시합니다.\n",
        "plt.show()\n",
        "\n",
        "# matplotlib의 폰트 설정을 'Malgun Gothic'으로 변경합니다. 이는 한글 표시를 위한 설정입니다.\n",
        "#plt.rc('font', family='Arial')\n",
        "\n",
        "# 히스토그램을 그립니다. 'body_mass_g'의 분포를 30개의 구간으로 나누어 표시합니다.\n",
        "plt.hist(df['body_mass_g'], bins=30)\n",
        "\n",
        "# x축의 라벨을 'Body Mass'로 설정합니다.\n",
        "plt.xlabel('Body Mass')\n",
        "\n",
        "# y축의 라벨을 'Count'로 설정합니다.\n",
        "plt.ylabel('Count')\n",
        "\n",
        "# 그래프의 제목을 'distribution of Penguin's weight'로 설정합니다.\n",
        "plt.title('distribution of weight of Penguins')\n",
        "\n",
        "# 그래프를 화면에 표시합니다.\n",
        "plt.show()\n"
      ]
    }
  ]
}