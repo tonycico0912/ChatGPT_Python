{
  "nbformat": 4,
  "nbformat_minor": 0,
  "metadata": {
    "colab": {
      "provenance": [],
      "authorship_tag": "ABX9TyOvuDUb5yF/zcHH1sZrAREg",
      "include_colab_link": true
    },
    "kernelspec": {
      "name": "python3",
      "display_name": "Python 3"
    },
    "language_info": {
      "name": "python"
    }
  },
  "cells": [
    {
      "cell_type": "markdown",
      "metadata": {
        "id": "view-in-github",
        "colab_type": "text"
      },
      "source": [
        "<a href=\"https://colab.research.google.com/github/tonycico0912/ChatGPT_Python/blob/main/convert_solar_to_lunar.ipynb\" target=\"_parent\"><img src=\"https://colab.research.google.com/assets/colab-badge.svg\" alt=\"Open In Colab\"/></a>"
      ]
    },
    {
      "cell_type": "code",
      "source": [
        "!pip install korean_lunar_calendar\n"
      ],
      "metadata": {
        "colab": {
          "base_uri": "https://localhost:8080/"
        },
        "id": "bL6dQt4Tfsuq",
        "outputId": "d99861d8-3ed7-4cb9-b232-29589338bf33"
      },
      "execution_count": 1,
      "outputs": [
        {
          "output_type": "stream",
          "name": "stdout",
          "text": [
            "Looking in indexes: https://pypi.org/simple, https://us-python.pkg.dev/colab-wheels/public/simple/\n",
            "Collecting korean_lunar_calendar\n",
            "  Downloading korean_lunar_calendar-0.3.1-py3-none-any.whl (9.0 kB)\n",
            "Installing collected packages: korean_lunar_calendar\n",
            "Successfully installed korean_lunar_calendar-0.3.1\n"
          ]
        }
      ]
    },
    {
      "cell_type": "code",
      "source": [
        "# 필요한 라이브러리를 가져옵니다.\n",
        "from korean_lunar_calendar import KoreanLunarCalendar\n",
        "from datetime import datetime\n",
        "\n",
        "# 양력 날짜를 음력 날짜로 변환하는 함수를 정의합니다.\n",
        "def convert_solar_to_lunar(solar_date):\n",
        "    # KoreanLunarCalendar 객체를 생성합니다.\n",
        "    calendar = KoreanLunarCalendar()\n",
        "    # 양력 날짜를 설정합니다.\n",
        "    calendar.setSolarDate(solar_date.year, solar_date.month, solar_date.day)\n",
        "\n",
        "    # 설정된 양력 날짜를 음력 날짜로 변환합니다.\n",
        "    lunar_date = calendar.LunarIsoFormat()\n",
        "    return lunar_date\n",
        "\n",
        "# 사용자로부터 날짜를 입력받습니다.\n",
        "input_date = input(\"날짜를 입력하세요 (예: 2023-05-26): \")\n",
        "# 입력받은 날짜를 연, 월, 일로 분리합니다.\n",
        "year, month, day = map(int, input_date.split('-'))\n",
        "\n",
        "# datetime 객체를 생성합니다.\n",
        "solar_date = datetime(year, month, day)\n",
        "# 양력 날짜를 음력 날짜로 변환합니다.\n",
        "lunar_date = convert_solar_to_lunar(solar_date)\n",
        "\n",
        "# 음력 날짜를 연, 월, 일로 분리하고, \"오늘의 숫자\"를 계산합니다.\n",
        "lunar_year, lunar_month, lunar_day = map(int, lunar_date.split('-'))\n",
        "today_number = (lunar_month + lunar_day) % 9\n",
        "\n",
        "# 음력 날짜와 \"오늘의 숫자\"를 출력합니다.\n",
        "print(f\"입력하신 날짜 {input_date}의 음력은 {lunar_date}이며, 오늘의 숫자는 {today_number}입니다.\")\n",
        "\n",
        "# \"오늘의 숫자\"가 6인 경우, 특별히 주의해야 함을 알립니다.\n",
        "if today_number == 6:\n",
        "    print(\"오늘은 각별히 주의해야 합니다.\")\n"
      ],
      "metadata": {
        "id": "rN84RYMbhKjT",
        "outputId": "c7b1bbfd-6faa-4d91-ff3e-b7d54d1de126",
        "colab": {
          "base_uri": "https://localhost:8080/"
        }
      },
      "execution_count": 2,
      "outputs": [
        {
          "output_type": "stream",
          "name": "stdout",
          "text": [
            "날짜를 입력하세요 (예: 2023-05-26): 2023-06-26\n",
            "입력하신 날짜 2023-06-26의 음력은 2023-05-09이며, 오늘의 숫자는 5입니다.\n"
          ]
        }
      ]
    }
  ]
}