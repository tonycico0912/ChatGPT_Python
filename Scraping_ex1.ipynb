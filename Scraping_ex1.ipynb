{
  "nbformat": 4,
  "nbformat_minor": 0,
  "metadata": {
    "colab": {
      "provenance": [],
      "authorship_tag": "ABX9TyMfd+/hZ6plAkAtS0KIr1fE",
      "include_colab_link": true
    },
    "kernelspec": {
      "name": "python3",
      "display_name": "Python 3"
    },
    "language_info": {
      "name": "python"
    }
  },
  "cells": [
    {
      "cell_type": "markdown",
      "metadata": {
        "id": "view-in-github",
        "colab_type": "text"
      },
      "source": [
        "<a href=\"https://colab.research.google.com/github/tonycico0912/ChatGPT_Python/blob/main/Scraping_ex1.ipynb\" target=\"_parent\"><img src=\"https://colab.research.google.com/assets/colab-badge.svg\" alt=\"Open In Colab\"/></a>"
      ]
    },
    {
      "cell_type": "code",
      "execution_count": 1,
      "metadata": {
        "colab": {
          "base_uri": "https://localhost:8080/"
        },
        "id": "f4h62dvjnSkL",
        "outputId": "3ad8a030-24c7-464a-d452-d4228d48cbde"
      },
      "outputs": [
        {
          "output_type": "stream",
          "name": "stdout",
          "text": [
            "<Response [200]>\n"
          ]
        },
        {
          "output_type": "execute_result",
          "data": {
            "text/plain": [
              "['Albert Einstein',\n",
              " 'J.K. Rowling',\n",
              " 'Albert Einstein',\n",
              " 'Jane Austen',\n",
              " 'Marilyn Monroe',\n",
              " 'Albert Einstein',\n",
              " 'André Gide',\n",
              " 'Thomas A. Edison',\n",
              " 'Eleanor Roosevelt',\n",
              " 'Steve Martin']"
            ]
          },
          "metadata": {},
          "execution_count": 1
        }
      ],
      "source": [
        "import requests as rq\n",
        "\n",
        "url = 'https://quotes.toscrape.com/'\n",
        "\n",
        "# 웹사이트에 GET 요청을 보내고 응답을 받아옵니다.\n",
        "quote = rq.get(url)\n",
        "\n",
        "print(quote)\n",
        "\n",
        "# 응답의 내용 중 처음 1000바이트를 출력합니다.\n",
        "quote.content[:1000]\n",
        "\n",
        "from bs4 import BeautifulSoup\n",
        "\n",
        "# BeautifulSoup 객체를 생성하여 HTML을 파싱합니다.\n",
        "quote_html = BeautifulSoup(quote.content, 'html.parser')\n",
        "\n",
        "# HTML의 <head> 태그 내용을 출력합니다.\n",
        "quote_html.head()\n",
        "\n",
        "# HTML에서 class가 'quote'인 모든 <div> 태그를 찾습니다.\n",
        "quote_div = quote_html.find_all('div', class_='quote')\n",
        "\n",
        "# 첫 번째 인용구를 출력합니다.\n",
        "quote_div[0]\n",
        "\n",
        "# 첫 번째 인용구에서 class가 'text'인 <span> 태그의 텍스트를 찾습니다.\n",
        "quote_span = quote_div[0].find_all('span', class_='text')[0].text\n",
        "\n",
        "# 위와 동일한 작업을 반복하여 모든 인용구를 찾습니다.\n",
        "[i.find_all('span', class_ ='text')[0].text for i in quote_div]\n",
        "\n",
        "# CSS 선택자를 사용하여 인용구를 선택합니다.\n",
        "quote_text = quote_html.select('div.quote > span.text')\n",
        "\n",
        "# 모든 인용구의 텍스트를 리스트로 만듭니다.\n",
        "quote_text_list = [i.text for i in quote_text]\n",
        "\n",
        "# CSS 선택자를 사용하여 각 인용구의 저자를 선택합니다.\n",
        "quote_author = quote_html.select('div.quote > span > small.author')\n",
        "\n",
        "# 모든 저자의 이름을 리스트로 만듭니다.\n",
        "quote_author_list = [i.text for i in quote_author]\n",
        "\n",
        "# 저자 리스트를 출력합니다.\n",
        "quote_author_list\n"
      ]
    }
  ]
}